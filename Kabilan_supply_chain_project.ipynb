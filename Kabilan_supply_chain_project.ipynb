{
 "cells": [
  {
   "cell_type": "code",
   "execution_count": 1,
   "id": "554566ee-b75f-453f-ad9e-3ccb572e595c",
   "metadata": {},
   "outputs": [],
   "source": [
    "from pyspark.sql import SparkSession\n",
    "from pyspark.sql.functions import *\n",
    "import pandas as pd\n",
    "from pyspark import SparkFiles\n",
    "from pyspark.sql.types import StructType, StructField, StringType, IntegerType, DoubleType\n",
    "\n",
    "\n",
    "spark = SparkSession.builder.getOrCreate()"
   ]
  },
  {
   "cell_type": "code",
   "execution_count": 2,
   "id": "9627c214-7c85-41ab-a862-01402aaf4c6f",
   "metadata": {},
   "outputs": [
    {
     "name": "stdout",
     "output_type": "stream",
     "text": [
      "Requirement already satisfied: pandas in /opt/conda/lib/python3.11/site-packages (2.0.3)\n",
      "Requirement already satisfied: openpyxl in /opt/conda/lib/python3.11/site-packages (3.1.2)\n",
      "Requirement already satisfied: python-dateutil>=2.8.2 in /opt/conda/lib/python3.11/site-packages (from pandas) (2.8.2)\n",
      "Requirement already satisfied: pytz>=2020.1 in /opt/conda/lib/python3.11/site-packages (from pandas) (2023.3.post1)\n",
      "Requirement already satisfied: tzdata>=2022.1 in /opt/conda/lib/python3.11/site-packages (from pandas) (2023.3)\n",
      "Requirement already satisfied: numpy>=1.21.0 in /opt/conda/lib/python3.11/site-packages (from pandas) (1.24.4)\n",
      "Requirement already satisfied: et-xmlfile in /opt/conda/lib/python3.11/site-packages (from openpyxl) (1.1.0)\n",
      "Requirement already satisfied: six>=1.5 in /opt/conda/lib/python3.11/site-packages (from python-dateutil>=2.8.2->pandas) (1.16.0)\n",
      "Note: you may need to restart the kernel to use updated packages.\n"
     ]
    }
   ],
   "source": [
    "pip install pandas openpyxl"
   ]
  },
  {
   "cell_type": "markdown",
   "id": "64bafb56-7749-4331-ba3c-00fb6557c799",
   "metadata": {},
   "source": [
    "### Reading Product master excel files"
   ]
  },
  {
   "cell_type": "code",
   "execution_count": 3,
   "id": "1a74b5fd-0734-4b13-a27f-d7ac7b2a2449",
   "metadata": {},
   "outputs": [],
   "source": [
    "Order_pattern = \"Ordering pattern - Book.xlsx\""
   ]
  },
  {
   "cell_type": "code",
   "execution_count": 6,
   "id": "c87fa447-76e7-4bfd-b8fc-8125f21456ec",
   "metadata": {},
   "outputs": [],
   "source": [
    "ordering_patter_sheets = pd.ExcelFile(Order_pattern).sheet_names"
   ]
  },
  {
   "cell_type": "code",
   "execution_count": 14,
   "id": "65dcc365-5147-493f-9aa3-2fe052ab374f",
   "metadata": {},
   "outputs": [],
   "source": [
    "master_file = pd.read_excel('Product_detail_master.xlsx')\n",
    "master_file_df = spark.createDataFrame(master_file)\n",
    "master_file_df = master_file_df.withColumnRenamed('Material - Key', 'Material_Key')"
   ]
  },
  {
   "cell_type": "code",
   "execution_count": 15,
   "id": "a99f4ef0-a055-4522-8799-2dc712b9ac2b",
   "metadata": {},
   "outputs": [
    {
     "name": "stdout",
     "output_type": "stream",
     "text": [
      "root\n",
      " |-- Plant - Key: long (nullable = true)\n",
      " |-- Plant - Medium Text: string (nullable = true)\n",
      " |-- Product Group: string (nullable = true)\n",
      " |-- Product Code: string (nullable = true)\n",
      " |-- Profit Center - Key: long (nullable = true)\n",
      " |-- Profit Center - Text: string (nullable = true)\n",
      " |-- Created Date: string (nullable = true)\n",
      " |-- Material_Key: string (nullable = true)\n",
      " |-- Material - Text: string (nullable = true)\n",
      " |-- Material Plant - Key (Not Compounded): string (nullable = true)\n",
      " |-- MRP Group: string (nullable = true)\n",
      " |-- Material type: string (nullable = true)\n",
      " |-- Material group: string (nullable = true)\n",
      " |-- Planning Strategy Gr: long (nullable = true)\n",
      " |-- Prod.hierarchy: string (nullable = true)\n",
      " |-- Product Hierarchy Missing: string (nullable = true)\n",
      " |-- Material Plant - Contract(Yes/No) (Key): string (nullable = true)\n",
      " |-- Incomplete PH: string (nullable = true)\n",
      " |-- Base Unit: string (nullable = true)\n",
      " |-- PO Unit: string (nullable = true)\n",
      " |-- SAP Revision: long (nullable = true)\n",
      " |-- Agile Revision: string (nullable = true)\n",
      " |-- Manufacturer: string (nullable = true)\n",
      " |-- Manufacturer Part Number: string (nullable = true)\n",
      " |-- Customer: string (nullable = true)\n",
      " |-- Purchasing Group - Key: string (nullable = true)\n",
      " |-- Purchasing Group: string (nullable = true)\n",
      " |-- Fixed Vendor - Key: string (nullable = true)\n",
      " |-- Fixed Vendor - Medium Text: string (nullable = true)\n",
      " |-- MRP Type: string (nullable = true)\n",
      " |-- MRP Controller - Key: string (nullable = true)\n",
      " |-- MRP Controller: string (nullable = true)\n",
      " |-- Lot Size Procedure: long (nullable = true)\n",
      " |-- Lot Size Procedure Description: long (nullable = true)\n",
      " |-- Cross Plant Status: string (nullable = true)\n",
      " |-- Material Status (Plant Specific): string (nullable = true)\n",
      " |-- Cross-Plant CM: string (nullable = true)\n",
      " |-- Procurement Type: string (nullable = true)\n",
      " |-- Special Procurement: string (nullable = true)\n",
      " |-- ABC indicator: string (nullable = true)\n",
      " |-- Bulk Indicator: string (nullable = true)\n",
      " |-- Back Flush: long (nullable = true)\n",
      " |-- Re Order Point: long (nullable = true)\n",
      " |-- Consignment Flag: string (nullable = true)\n",
      " |-- Batch Management Ind: string (nullable = true)\n",
      " |-- Product Family: string (nullable = true)\n",
      " |-- Product: string (nullable = true)\n",
      " |-- Sub Product: string (nullable = true)\n",
      " |-- Technology: string (nullable = true)\n",
      " |-- Industry: string (nullable = true)\n",
      " |-- Supplier Locked Flag: string (nullable = true)\n",
      " |-- Critical part Flag: string (nullable = true)\n",
      " |-- Copy Exact Flag: string (nullable = true)\n",
      " |-- Storage location: string (nullable = true)\n",
      " |-- Valuation Class: string (nullable = true)\n",
      " |-- Issue Storage Location: string (nullable = true)\n",
      " |-- Schedule Margin Key: long (nullable = true)\n",
      " |-- Material Plant - Plant Group (Key): string (nullable = true)\n",
      " |-- Material Plant - GR processing time (Key): double (nullable = true)\n",
      " |-- Quote Price: double (nullable = true)\n",
      " |-- Planned Price 1: double (nullable = true)\n",
      " |-- Planned Price 2: double (nullable = true)\n",
      " |-- Planned Price 3: double (nullable = true)\n",
      " |-- Stock Quantity: double (nullable = true)\n",
      " |-- Safety Stock: double (nullable = true)\n",
      " |-- Max Lot Size: double (nullable = true)\n",
      " |-- Minimum LotSize: double (nullable = true)\n",
      " |-- MOQ Quantity: double (nullable = true)\n",
      " |-- Standard Cost: double (nullable = true)\n",
      " |-- Price per Unit: long (nullable = true)\n",
      " |-- Per Unit Price: double (nullable = true)\n",
      " |-- Material Cost: double (nullable = true)\n",
      " |-- Service Cost: long (nullable = true)\n",
      " |-- Labor Cost: long (nullable = true)\n",
      " |-- Burden Cost: double (nullable = true)\n",
      " |-- Lot Size: long (nullable = true)\n",
      " |-- Purchase Price: double (nullable = true)\n",
      " |-- Planned deliv. time: long (nullable = true)\n",
      " |-- Total RL time: long (nullable = true)\n",
      " |-- InhseProdTime: long (nullable = true)\n",
      " |-- Rounding Value: double (nullable = true)\n",
      " |-- Demand Quantity: long (nullable = true)\n",
      " |-- Usage Quantity: double (nullable = true)\n",
      " |-- 1 to 30 Days Usage Quantity: double (nullable = true)\n",
      " |-- 31  to 60 Days Usage Quantity: double (nullable = true)\n",
      " |-- 60 to 90 Days Usage Quantity: double (nullable = true)\n",
      " |-- 1 to 365 Days Usage Quantity: double (nullable = true)\n",
      "\n"
     ]
    }
   ],
   "source": [
    "master_file_df.printSchema()"
   ]
  },
  {
   "cell_type": "markdown",
   "id": "690c928a-66de-488c-bdb6-69f096d46b0b",
   "metadata": {},
   "source": [
    "### Exploring order file schema and gather data from all sheets in excel file"
   ]
  },
  {
   "cell_type": "code",
   "execution_count": 10,
   "id": "4b86ec7d-10ab-4185-8cde-ec0952942e5b",
   "metadata": {},
   "outputs": [],
   "source": [
    "common_schema = {\n",
    "    \"WO\": StringType(),\n",
    "    \"Part Number\": StringType(),\n",
    "    \"Description\": StringType(),\n",
    "    \"Quantity\":IntegerType(),\n",
    "    \"UM\":StringType()\n",
    "    # Add more columns as needed\n",
    "}\n",
    "\n",
    "pyspark_schema = StructType([StructField(col, dtype, True) for col, dtype in common_schema.items()])"
   ]
  },
  {
   "cell_type": "code",
   "execution_count": 11,
   "id": "3ad99082-ed6e-4993-8254-9157f0f8af11",
   "metadata": {},
   "outputs": [],
   "source": [
    "final_df = None\n",
    "for sheet_name in ordering_patter_sheets:\n",
    "    sheet_df = pd.read_excel(Order_pattern, sheet_name)\n",
    "    pyspark_df = spark.createDataFrame(sheet_df, schema=pyspark_schema)\n",
    "    if final_df is None:\n",
    "        final_df = pyspark_df\n",
    "    else:\n",
    "        final_df = final_df.union(pyspark_df)\n",
    "final_df = final_df.withColumnRenamed('Part Number', 'part_number')"
   ]
  },
  {
   "cell_type": "code",
   "execution_count": 12,
   "id": "e12bc558-1371-4c5c-b1bb-a76a2a128b4b",
   "metadata": {},
   "outputs": [
    {
     "name": "stdout",
     "output_type": "stream",
     "text": [
      "root\n",
      " |-- WO: string (nullable = true)\n",
      " |-- part_number: string (nullable = true)\n",
      " |-- Description: string (nullable = true)\n",
      " |-- Quantity: integer (nullable = true)\n",
      " |-- UM: string (nullable = true)\n",
      "\n"
     ]
    }
   ],
   "source": [
    "final_df.printSchema()"
   ]
  },
  {
   "cell_type": "markdown",
   "id": "ac3d65e6-0c2e-4fb3-a24f-22c50f1b7d8a",
   "metadata": {},
   "source": [
    "### Aggregating data to get insights on SKU ordering"
   ]
  },
  {
   "cell_type": "code",
   "execution_count": 43,
   "id": "e53d7bbe-e649-4112-90d1-62fada54cff4",
   "metadata": {},
   "outputs": [],
   "source": [
    "aggregate_order_qty = final_df.groupBy('part_number','Description', 'UM').agg(\n",
    "    sum(\"Quantity\").alias(\"total_orders\"),\n",
    "    avg(\"Quantity\").alias(\"average_orders\"),\n",
    "    median(\"Quantity\").alias(\"median_orders\"), \n",
    "    mode(\"Quantity\").alias(\"mode_orders\"),\n",
    "    min(\"Quantity\").alias(\"min_orders\"),\n",
    "    max(\"Quantity\").alias(\"max_orders\"),\n",
    "    count(\"part_number\").alias(\"frequency\")\n",
    ")\n"
   ]
  },
  {
   "cell_type": "markdown",
   "id": "d0a446dd-93d7-464c-a2fe-c0b488bfd63a",
   "metadata": {},
   "source": [
    "### Combine marster file with aggregate"
   ]
  },
  {
   "cell_type": "code",
   "execution_count": 44,
   "id": "97861d68-8bec-4bd7-ae70-159a17cd2983",
   "metadata": {},
   "outputs": [
    {
     "data": {
      "text/plain": [
       "5532"
      ]
     },
     "execution_count": 44,
     "metadata": {},
     "output_type": "execute_result"
    }
   ],
   "source": [
    "combined_data = master_file_df.join(aggregate_order_qty, master_file_df.Material_Key == aggregate_order_qty.part_number, 'left').select('Material_Key','Description','Manufacturer','UM','total_orders','average_orders','median_orders','mode_orders','min_orders','max_orders','frequency','median_orders','mode_orders','min_orders','max_orders','frequency')\n",
    "combined_data.count()"
   ]
  },
  {
   "cell_type": "markdown",
   "id": "0902b63a-4027-432c-abcb-684114e4952d",
   "metadata": {},
   "source": [
    "### converting pyspark dataframe to padas"
   ]
  },
  {
   "cell_type": "code",
   "execution_count": 45,
   "id": "1c1107f8-4548-4a28-8c5d-909a02e12dc7",
   "metadata": {},
   "outputs": [],
   "source": [
    "pandas_df = combined_data.toPandas()"
   ]
  },
  {
   "cell_type": "code",
   "execution_count": 46,
   "id": "0f5609a7-7212-4b0a-8df9-6279eb210529",
   "metadata": {},
   "outputs": [],
   "source": [
    "pandas_df.to_excel('Aggregate_data_for_charts.xlsx', index=False)"
   ]
  },
  {
   "cell_type": "markdown",
   "id": "aab90438-0322-4f85-bdbb-2db44d581caf",
   "metadata": {},
   "source": [
    "### Plotting orders of sku's to analyse trends"
   ]
  },
  {
   "cell_type": "code",
   "execution_count": 57,
   "id": "608e239b-4d28-4310-bdd3-3bf7174453db",
   "metadata": {},
   "outputs": [],
   "source": [
    "import matplotlib.pyplot as plt"
   ]
  },
  {
   "cell_type": "code",
   "execution_count": 58,
   "id": "117ec548-f27a-4731-8a69-81923ca33710",
   "metadata": {},
   "outputs": [],
   "source": [
    "final_df = final_df.withColumnRenamed('Part Number', 'part_number')"
   ]
  },
  {
   "cell_type": "code",
   "execution_count": 59,
   "id": "8151311d-d18d-4f95-8ba1-ced792c4ed4d",
   "metadata": {},
   "outputs": [],
   "source": [
    "Sku_order_df = final_df.select('WO', 'part_number', 'Quantity', 'UM')"
   ]
  },
  {
   "cell_type": "code",
   "execution_count": 83,
   "id": "c3de1231-c283-4ba9-aa20-2894ca3ee164",
   "metadata": {},
   "outputs": [],
   "source": [
    "# selected_sku = input(\"Enter sku: \")\n",
    "selected_sku_df = Sku_order_df.filter(col(\"part_number\") == '21-042023-06')"
   ]
  },
  {
   "cell_type": "code",
   "execution_count": 85,
   "id": "396ed775-8abf-4fee-97db-8dc916b8ad76",
   "metadata": {},
   "outputs": [
    {
     "name": "stdout",
     "output_type": "stream",
     "text": [
      "+-------+------------+--------+---+\n",
      "|     WO| part_number|Quantity| UM|\n",
      "+-------+------------+--------+---+\n",
      "|FS_WK49|21-042023-06|    1500| EA|\n",
      "|FS_WK36|21-042023-06|    1700| EA|\n",
      "|FS_WK44|21-042023-06|    3200| EA|\n",
      "|FS_WK37|21-042023-06|     400| EA|\n",
      "+-------+------------+--------+---+\n",
      "\n"
     ]
    }
   ],
   "source": [
    "selected_sku_df.show()"
   ]
  },
  {
   "cell_type": "code",
   "execution_count": 86,
   "id": "a7cdc198-7990-43e8-9063-6d61545c05cf",
   "metadata": {},
   "outputs": [],
   "source": [
    "sku_order_pandas_df = selected_sku_df.toPandas()"
   ]
  },
  {
   "cell_type": "code",
   "execution_count": null,
   "id": "61b61547-afa4-41c4-b033-f60e39c1279d",
   "metadata": {},
   "outputs": [],
   "source": [
    "21-042023-06 - 6800 4 1700 100, 2500, 300\n",
    "Multiple excel with all possible aggregation combinations as excel\n",
    "Different charts possible as png images\n"
   ]
  },
  {
   "cell_type": "code",
   "execution_count": 87,
   "id": "face669b-8031-45b7-a0b2-bf88826145c8",
   "metadata": {},
   "outputs": [
    {
     "data": {
      "image/png": "[encoded data removed]",
      "text/plain": [
       "<Figure size 1000x600 with 1 Axes>"
      ]
     },
     "metadata": {},
     "output_type": "display_data"
    }
   ],
   "source": [
    "plt.figure(figsize=(10, 6))\n",
    "plt.plot(sku_order_pandas_df['WO'], sku_order_pandas_df['Quantity'], marker='o', linestyle='-', color='b')\n",
    "plt.title(f'Ordering Trend for SKU: {selected_sku}')\n",
    "plt.xlabel('Week')\n",
    "plt.ylabel('Quantity')\n",
    "plt.grid(True)\n",
    "plt.show()"
   ]
  },
  {
   "cell_type": "code",
   "execution_count": null,
   "id": "066f0bcc-f54f-4269-98ed-3d0cfcb20fed",
   "metadata": {},
   "outputs": [],
   "source": []
  }
 ],
 "metadata": {
  "kernelspec": {
   "display_name": "Python 3 (ipykernel)",
   "language": "python",
   "name": "python3"
  },
  "language_info": {
   "codemirror_mode": {
    "name": "ipython",
    "version": 3
   },
   "file_extension": ".py",
   "mimetype": "text/x-python",
   "name": "python",
   "nbconvert_exporter": "python",
   "pygments_lexer": "ipython3",
   "version": "3.11.6"
  }
 },
 "nbformat": 4,
 "nbformat_minor": 5
}
